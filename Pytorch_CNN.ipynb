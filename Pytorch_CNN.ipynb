{
  "nbformat": 4,
  "nbformat_minor": 0,
  "metadata": {
    "colab": {
      "name": "MNIST with Pytorch_CNN_val_early stop.ipynb",
      "provenance": [],
      "collapsed_sections": []
    },
    "kernelspec": {
      "name": "python3",
      "display_name": "Python 3"
    },
    "accelerator": "GPU",
    "widgets": {
      "application/vnd.jupyter.widget-state+json": {
        "7efa87594cf1411f9da8ff58080af6e7": {
          "model_module": "@jupyter-widgets/controls",
          "model_name": "HBoxModel",
          "state": {
            "_view_name": "HBoxView",
            "_dom_classes": [],
            "_model_name": "HBoxModel",
            "_view_module": "@jupyter-widgets/controls",
            "_model_module_version": "1.5.0",
            "_view_count": null,
            "_view_module_version": "1.5.0",
            "box_style": "",
            "layout": "IPY_MODEL_aa91f830f7c14d42bcc7933b55bf225c",
            "_model_module": "@jupyter-widgets/controls",
            "children": [
              "IPY_MODEL_f815bdbdc1024564a3a9d15a6c557ce8",
              "IPY_MODEL_77a5049421e444409c6ea4477bf3e807"
            ]
          }
        },
        "aa91f830f7c14d42bcc7933b55bf225c": {
          "model_module": "@jupyter-widgets/base",
          "model_name": "LayoutModel",
          "state": {
            "_view_name": "LayoutView",
            "grid_template_rows": null,
            "right": null,
            "justify_content": null,
            "_view_module": "@jupyter-widgets/base",
            "overflow": null,
            "_model_module_version": "1.2.0",
            "_view_count": null,
            "flex_flow": null,
            "width": null,
            "min_width": null,
            "border": null,
            "align_items": null,
            "bottom": null,
            "_model_module": "@jupyter-widgets/base",
            "top": null,
            "grid_column": null,
            "overflow_y": null,
            "overflow_x": null,
            "grid_auto_flow": null,
            "grid_area": null,
            "grid_template_columns": null,
            "flex": null,
            "_model_name": "LayoutModel",
            "justify_items": null,
            "grid_row": null,
            "max_height": null,
            "align_content": null,
            "visibility": null,
            "align_self": null,
            "height": null,
            "min_height": null,
            "padding": null,
            "grid_auto_rows": null,
            "grid_gap": null,
            "max_width": null,
            "order": null,
            "_view_module_version": "1.2.0",
            "grid_template_areas": null,
            "object_position": null,
            "object_fit": null,
            "grid_auto_columns": null,
            "margin": null,
            "display": null,
            "left": null
          }
        },
        "f815bdbdc1024564a3a9d15a6c557ce8": {
          "model_module": "@jupyter-widgets/controls",
          "model_name": "FloatProgressModel",
          "state": {
            "_view_name": "ProgressView",
            "style": "IPY_MODEL_5ac3b9c3bb614398a8b3a01c3c058fa3",
            "_dom_classes": [],
            "description": "",
            "_model_name": "FloatProgressModel",
            "bar_style": "info",
            "max": 1,
            "_view_module": "@jupyter-widgets/controls",
            "_model_module_version": "1.5.0",
            "value": 1,
            "_view_count": null,
            "_view_module_version": "1.5.0",
            "orientation": "horizontal",
            "min": 0,
            "description_tooltip": null,
            "_model_module": "@jupyter-widgets/controls",
            "layout": "IPY_MODEL_a743ff31f3544461be8ba649ec0dc80b"
          }
        },
        "77a5049421e444409c6ea4477bf3e807": {
          "model_module": "@jupyter-widgets/controls",
          "model_name": "HTMLModel",
          "state": {
            "_view_name": "HTMLView",
            "style": "IPY_MODEL_82399c7a4be4438d8bb2e8102bb26ead",
            "_dom_classes": [],
            "description": "",
            "_model_name": "HTMLModel",
            "placeholder": "​",
            "_view_module": "@jupyter-widgets/controls",
            "_model_module_version": "1.5.0",
            "value": " 9920512/? [00:20&lt;00:00, 18370716.81it/s]",
            "_view_count": null,
            "_view_module_version": "1.5.0",
            "description_tooltip": null,
            "_model_module": "@jupyter-widgets/controls",
            "layout": "IPY_MODEL_5b188beb1acc4e9092f613be9803d3d1"
          }
        },
        "5ac3b9c3bb614398a8b3a01c3c058fa3": {
          "model_module": "@jupyter-widgets/controls",
          "model_name": "ProgressStyleModel",
          "state": {
            "_view_name": "StyleView",
            "_model_name": "ProgressStyleModel",
            "description_width": "initial",
            "_view_module": "@jupyter-widgets/base",
            "_model_module_version": "1.5.0",
            "_view_count": null,
            "_view_module_version": "1.2.0",
            "bar_color": null,
            "_model_module": "@jupyter-widgets/controls"
          }
        },
        "a743ff31f3544461be8ba649ec0dc80b": {
          "model_module": "@jupyter-widgets/base",
          "model_name": "LayoutModel",
          "state": {
            "_view_name": "LayoutView",
            "grid_template_rows": null,
            "right": null,
            "justify_content": null,
            "_view_module": "@jupyter-widgets/base",
            "overflow": null,
            "_model_module_version": "1.2.0",
            "_view_count": null,
            "flex_flow": null,
            "width": null,
            "min_width": null,
            "border": null,
            "align_items": null,
            "bottom": null,
            "_model_module": "@jupyter-widgets/base",
            "top": null,
            "grid_column": null,
            "overflow_y": null,
            "overflow_x": null,
            "grid_auto_flow": null,
            "grid_area": null,
            "grid_template_columns": null,
            "flex": null,
            "_model_name": "LayoutModel",
            "justify_items": null,
            "grid_row": null,
            "max_height": null,
            "align_content": null,
            "visibility": null,
            "align_self": null,
            "height": null,
            "min_height": null,
            "padding": null,
            "grid_auto_rows": null,
            "grid_gap": null,
            "max_width": null,
            "order": null,
            "_view_module_version": "1.2.0",
            "grid_template_areas": null,
            "object_position": null,
            "object_fit": null,
            "grid_auto_columns": null,
            "margin": null,
            "display": null,
            "left": null
          }
        },
        "82399c7a4be4438d8bb2e8102bb26ead": {
          "model_module": "@jupyter-widgets/controls",
          "model_name": "DescriptionStyleModel",
          "state": {
            "_view_name": "StyleView",
            "_model_name": "DescriptionStyleModel",
            "description_width": "",
            "_view_module": "@jupyter-widgets/base",
            "_model_module_version": "1.5.0",
            "_view_count": null,
            "_view_module_version": "1.2.0",
            "_model_module": "@jupyter-widgets/controls"
          }
        },
        "5b188beb1acc4e9092f613be9803d3d1": {
          "model_module": "@jupyter-widgets/base",
          "model_name": "LayoutModel",
          "state": {
            "_view_name": "LayoutView",
            "grid_template_rows": null,
            "right": null,
            "justify_content": null,
            "_view_module": "@jupyter-widgets/base",
            "overflow": null,
            "_model_module_version": "1.2.0",
            "_view_count": null,
            "flex_flow": null,
            "width": null,
            "min_width": null,
            "border": null,
            "align_items": null,
            "bottom": null,
            "_model_module": "@jupyter-widgets/base",
            "top": null,
            "grid_column": null,
            "overflow_y": null,
            "overflow_x": null,
            "grid_auto_flow": null,
            "grid_area": null,
            "grid_template_columns": null,
            "flex": null,
            "_model_name": "LayoutModel",
            "justify_items": null,
            "grid_row": null,
            "max_height": null,
            "align_content": null,
            "visibility": null,
            "align_self": null,
            "height": null,
            "min_height": null,
            "padding": null,
            "grid_auto_rows": null,
            "grid_gap": null,
            "max_width": null,
            "order": null,
            "_view_module_version": "1.2.0",
            "grid_template_areas": null,
            "object_position": null,
            "object_fit": null,
            "grid_auto_columns": null,
            "margin": null,
            "display": null,
            "left": null
          }
        },
        "5b48f694ba0b4af2881d915a4aba5033": {
          "model_module": "@jupyter-widgets/controls",
          "model_name": "HBoxModel",
          "state": {
            "_view_name": "HBoxView",
            "_dom_classes": [],
            "_model_name": "HBoxModel",
            "_view_module": "@jupyter-widgets/controls",
            "_model_module_version": "1.5.0",
            "_view_count": null,
            "_view_module_version": "1.5.0",
            "box_style": "",
            "layout": "IPY_MODEL_f26ec8bf45d24cfe98267530f8e6d8f9",
            "_model_module": "@jupyter-widgets/controls",
            "children": [
              "IPY_MODEL_1d6a02bb70b247189d1f2c56bd206adf",
              "IPY_MODEL_9717df645c2a40c0ae81ff70f70dc1a3"
            ]
          }
        },
        "f26ec8bf45d24cfe98267530f8e6d8f9": {
          "model_module": "@jupyter-widgets/base",
          "model_name": "LayoutModel",
          "state": {
            "_view_name": "LayoutView",
            "grid_template_rows": null,
            "right": null,
            "justify_content": null,
            "_view_module": "@jupyter-widgets/base",
            "overflow": null,
            "_model_module_version": "1.2.0",
            "_view_count": null,
            "flex_flow": null,
            "width": null,
            "min_width": null,
            "border": null,
            "align_items": null,
            "bottom": null,
            "_model_module": "@jupyter-widgets/base",
            "top": null,
            "grid_column": null,
            "overflow_y": null,
            "overflow_x": null,
            "grid_auto_flow": null,
            "grid_area": null,
            "grid_template_columns": null,
            "flex": null,
            "_model_name": "LayoutModel",
            "justify_items": null,
            "grid_row": null,
            "max_height": null,
            "align_content": null,
            "visibility": null,
            "align_self": null,
            "height": null,
            "min_height": null,
            "padding": null,
            "grid_auto_rows": null,
            "grid_gap": null,
            "max_width": null,
            "order": null,
            "_view_module_version": "1.2.0",
            "grid_template_areas": null,
            "object_position": null,
            "object_fit": null,
            "grid_auto_columns": null,
            "margin": null,
            "display": null,
            "left": null
          }
        },
        "1d6a02bb70b247189d1f2c56bd206adf": {
          "model_module": "@jupyter-widgets/controls",
          "model_name": "FloatProgressModel",
          "state": {
            "_view_name": "ProgressView",
            "style": "IPY_MODEL_3f94256e127d4bdeaf976bf2e522d6df",
            "_dom_classes": [],
            "description": "",
            "_model_name": "FloatProgressModel",
            "bar_style": "info",
            "max": 1,
            "_view_module": "@jupyter-widgets/controls",
            "_model_module_version": "1.5.0",
            "value": 0,
            "_view_count": null,
            "_view_module_version": "1.5.0",
            "orientation": "horizontal",
            "min": 0,
            "description_tooltip": null,
            "_model_module": "@jupyter-widgets/controls",
            "layout": "IPY_MODEL_9c6fa6d2d2e54b689abe86cd94f031a7"
          }
        },
        "9717df645c2a40c0ae81ff70f70dc1a3": {
          "model_module": "@jupyter-widgets/controls",
          "model_name": "HTMLModel",
          "state": {
            "_view_name": "HTMLView",
            "style": "IPY_MODEL_4c5c043ab3494cfeb4c41c7f18ce178e",
            "_dom_classes": [],
            "description": "",
            "_model_name": "HTMLModel",
            "placeholder": "​",
            "_view_module": "@jupyter-widgets/controls",
            "_model_module_version": "1.5.0",
            "value": " 0/? [00:00&lt;?, ?it/s]",
            "_view_count": null,
            "_view_module_version": "1.5.0",
            "description_tooltip": null,
            "_model_module": "@jupyter-widgets/controls",
            "layout": "IPY_MODEL_37dcdea51a6048bf9d58bf09c5d2a5d3"
          }
        },
        "3f94256e127d4bdeaf976bf2e522d6df": {
          "model_module": "@jupyter-widgets/controls",
          "model_name": "ProgressStyleModel",
          "state": {
            "_view_name": "StyleView",
            "_model_name": "ProgressStyleModel",
            "description_width": "initial",
            "_view_module": "@jupyter-widgets/base",
            "_model_module_version": "1.5.0",
            "_view_count": null,
            "_view_module_version": "1.2.0",
            "bar_color": null,
            "_model_module": "@jupyter-widgets/controls"
          }
        },
        "9c6fa6d2d2e54b689abe86cd94f031a7": {
          "model_module": "@jupyter-widgets/base",
          "model_name": "LayoutModel",
          "state": {
            "_view_name": "LayoutView",
            "grid_template_rows": null,
            "right": null,
            "justify_content": null,
            "_view_module": "@jupyter-widgets/base",
            "overflow": null,
            "_model_module_version": "1.2.0",
            "_view_count": null,
            "flex_flow": null,
            "width": null,
            "min_width": null,
            "border": null,
            "align_items": null,
            "bottom": null,
            "_model_module": "@jupyter-widgets/base",
            "top": null,
            "grid_column": null,
            "overflow_y": null,
            "overflow_x": null,
            "grid_auto_flow": null,
            "grid_area": null,
            "grid_template_columns": null,
            "flex": null,
            "_model_name": "LayoutModel",
            "justify_items": null,
            "grid_row": null,
            "max_height": null,
            "align_content": null,
            "visibility": null,
            "align_self": null,
            "height": null,
            "min_height": null,
            "padding": null,
            "grid_auto_rows": null,
            "grid_gap": null,
            "max_width": null,
            "order": null,
            "_view_module_version": "1.2.0",
            "grid_template_areas": null,
            "object_position": null,
            "object_fit": null,
            "grid_auto_columns": null,
            "margin": null,
            "display": null,
            "left": null
          }
        },
        "4c5c043ab3494cfeb4c41c7f18ce178e": {
          "model_module": "@jupyter-widgets/controls",
          "model_name": "DescriptionStyleModel",
          "state": {
            "_view_name": "StyleView",
            "_model_name": "DescriptionStyleModel",
            "description_width": "",
            "_view_module": "@jupyter-widgets/base",
            "_model_module_version": "1.5.0",
            "_view_count": null,
            "_view_module_version": "1.2.0",
            "_model_module": "@jupyter-widgets/controls"
          }
        },
        "37dcdea51a6048bf9d58bf09c5d2a5d3": {
          "model_module": "@jupyter-widgets/base",
          "model_name": "LayoutModel",
          "state": {
            "_view_name": "LayoutView",
            "grid_template_rows": null,
            "right": null,
            "justify_content": null,
            "_view_module": "@jupyter-widgets/base",
            "overflow": null,
            "_model_module_version": "1.2.0",
            "_view_count": null,
            "flex_flow": null,
            "width": null,
            "min_width": null,
            "border": null,
            "align_items": null,
            "bottom": null,
            "_model_module": "@jupyter-widgets/base",
            "top": null,
            "grid_column": null,
            "overflow_y": null,
            "overflow_x": null,
            "grid_auto_flow": null,
            "grid_area": null,
            "grid_template_columns": null,
            "flex": null,
            "_model_name": "LayoutModel",
            "justify_items": null,
            "grid_row": null,
            "max_height": null,
            "align_content": null,
            "visibility": null,
            "align_self": null,
            "height": null,
            "min_height": null,
            "padding": null,
            "grid_auto_rows": null,
            "grid_gap": null,
            "max_width": null,
            "order": null,
            "_view_module_version": "1.2.0",
            "grid_template_areas": null,
            "object_position": null,
            "object_fit": null,
            "grid_auto_columns": null,
            "margin": null,
            "display": null,
            "left": null
          }
        },
        "9150de760168485e800828c0f128b9e0": {
          "model_module": "@jupyter-widgets/controls",
          "model_name": "HBoxModel",
          "state": {
            "_view_name": "HBoxView",
            "_dom_classes": [],
            "_model_name": "HBoxModel",
            "_view_module": "@jupyter-widgets/controls",
            "_model_module_version": "1.5.0",
            "_view_count": null,
            "_view_module_version": "1.5.0",
            "box_style": "",
            "layout": "IPY_MODEL_2e12ed433d7743f18aa99a4cd770845f",
            "_model_module": "@jupyter-widgets/controls",
            "children": [
              "IPY_MODEL_2f054d72458c4b16958013fc458ca68a",
              "IPY_MODEL_c266eb9862d04aaaa6c784467b88a950"
            ]
          }
        },
        "2e12ed433d7743f18aa99a4cd770845f": {
          "model_module": "@jupyter-widgets/base",
          "model_name": "LayoutModel",
          "state": {
            "_view_name": "LayoutView",
            "grid_template_rows": null,
            "right": null,
            "justify_content": null,
            "_view_module": "@jupyter-widgets/base",
            "overflow": null,
            "_model_module_version": "1.2.0",
            "_view_count": null,
            "flex_flow": null,
            "width": null,
            "min_width": null,
            "border": null,
            "align_items": null,
            "bottom": null,
            "_model_module": "@jupyter-widgets/base",
            "top": null,
            "grid_column": null,
            "overflow_y": null,
            "overflow_x": null,
            "grid_auto_flow": null,
            "grid_area": null,
            "grid_template_columns": null,
            "flex": null,
            "_model_name": "LayoutModel",
            "justify_items": null,
            "grid_row": null,
            "max_height": null,
            "align_content": null,
            "visibility": null,
            "align_self": null,
            "height": null,
            "min_height": null,
            "padding": null,
            "grid_auto_rows": null,
            "grid_gap": null,
            "max_width": null,
            "order": null,
            "_view_module_version": "1.2.0",
            "grid_template_areas": null,
            "object_position": null,
            "object_fit": null,
            "grid_auto_columns": null,
            "margin": null,
            "display": null,
            "left": null
          }
        },
        "2f054d72458c4b16958013fc458ca68a": {
          "model_module": "@jupyter-widgets/controls",
          "model_name": "FloatProgressModel",
          "state": {
            "_view_name": "ProgressView",
            "style": "IPY_MODEL_21e81faa6dc7421fab5f86997e58c916",
            "_dom_classes": [],
            "description": "",
            "_model_name": "FloatProgressModel",
            "bar_style": "success",
            "max": 1,
            "_view_module": "@jupyter-widgets/controls",
            "_model_module_version": "1.5.0",
            "value": 1,
            "_view_count": null,
            "_view_module_version": "1.5.0",
            "orientation": "horizontal",
            "min": 0,
            "description_tooltip": null,
            "_model_module": "@jupyter-widgets/controls",
            "layout": "IPY_MODEL_a7877b40bd194a4fa193f779c62676c5"
          }
        },
        "c266eb9862d04aaaa6c784467b88a950": {
          "model_module": "@jupyter-widgets/controls",
          "model_name": "HTMLModel",
          "state": {
            "_view_name": "HTMLView",
            "style": "IPY_MODEL_934f24bea499444a901490be4dc80640",
            "_dom_classes": [],
            "description": "",
            "_model_name": "HTMLModel",
            "placeholder": "​",
            "_view_module": "@jupyter-widgets/controls",
            "_model_module_version": "1.5.0",
            "value": " 1654784/? [00:00&lt;00:00, 3227905.00it/s]",
            "_view_count": null,
            "_view_module_version": "1.5.0",
            "description_tooltip": null,
            "_model_module": "@jupyter-widgets/controls",
            "layout": "IPY_MODEL_84e769aa8ff441a6ae85bca2f3435dfb"
          }
        },
        "21e81faa6dc7421fab5f86997e58c916": {
          "model_module": "@jupyter-widgets/controls",
          "model_name": "ProgressStyleModel",
          "state": {
            "_view_name": "StyleView",
            "_model_name": "ProgressStyleModel",
            "description_width": "initial",
            "_view_module": "@jupyter-widgets/base",
            "_model_module_version": "1.5.0",
            "_view_count": null,
            "_view_module_version": "1.2.0",
            "bar_color": null,
            "_model_module": "@jupyter-widgets/controls"
          }
        },
        "a7877b40bd194a4fa193f779c62676c5": {
          "model_module": "@jupyter-widgets/base",
          "model_name": "LayoutModel",
          "state": {
            "_view_name": "LayoutView",
            "grid_template_rows": null,
            "right": null,
            "justify_content": null,
            "_view_module": "@jupyter-widgets/base",
            "overflow": null,
            "_model_module_version": "1.2.0",
            "_view_count": null,
            "flex_flow": null,
            "width": null,
            "min_width": null,
            "border": null,
            "align_items": null,
            "bottom": null,
            "_model_module": "@jupyter-widgets/base",
            "top": null,
            "grid_column": null,
            "overflow_y": null,
            "overflow_x": null,
            "grid_auto_flow": null,
            "grid_area": null,
            "grid_template_columns": null,
            "flex": null,
            "_model_name": "LayoutModel",
            "justify_items": null,
            "grid_row": null,
            "max_height": null,
            "align_content": null,
            "visibility": null,
            "align_self": null,
            "height": null,
            "min_height": null,
            "padding": null,
            "grid_auto_rows": null,
            "grid_gap": null,
            "max_width": null,
            "order": null,
            "_view_module_version": "1.2.0",
            "grid_template_areas": null,
            "object_position": null,
            "object_fit": null,
            "grid_auto_columns": null,
            "margin": null,
            "display": null,
            "left": null
          }
        },
        "934f24bea499444a901490be4dc80640": {
          "model_module": "@jupyter-widgets/controls",
          "model_name": "DescriptionStyleModel",
          "state": {
            "_view_name": "StyleView",
            "_model_name": "DescriptionStyleModel",
            "description_width": "",
            "_view_module": "@jupyter-widgets/base",
            "_model_module_version": "1.5.0",
            "_view_count": null,
            "_view_module_version": "1.2.0",
            "_model_module": "@jupyter-widgets/controls"
          }
        },
        "84e769aa8ff441a6ae85bca2f3435dfb": {
          "model_module": "@jupyter-widgets/base",
          "model_name": "LayoutModel",
          "state": {
            "_view_name": "LayoutView",
            "grid_template_rows": null,
            "right": null,
            "justify_content": null,
            "_view_module": "@jupyter-widgets/base",
            "overflow": null,
            "_model_module_version": "1.2.0",
            "_view_count": null,
            "flex_flow": null,
            "width": null,
            "min_width": null,
            "border": null,
            "align_items": null,
            "bottom": null,
            "_model_module": "@jupyter-widgets/base",
            "top": null,
            "grid_column": null,
            "overflow_y": null,
            "overflow_x": null,
            "grid_auto_flow": null,
            "grid_area": null,
            "grid_template_columns": null,
            "flex": null,
            "_model_name": "LayoutModel",
            "justify_items": null,
            "grid_row": null,
            "max_height": null,
            "align_content": null,
            "visibility": null,
            "align_self": null,
            "height": null,
            "min_height": null,
            "padding": null,
            "grid_auto_rows": null,
            "grid_gap": null,
            "max_width": null,
            "order": null,
            "_view_module_version": "1.2.0",
            "grid_template_areas": null,
            "object_position": null,
            "object_fit": null,
            "grid_auto_columns": null,
            "margin": null,
            "display": null,
            "left": null
          }
        },
        "96ffe5ae439c40268b6210c7c3dd5361": {
          "model_module": "@jupyter-widgets/controls",
          "model_name": "HBoxModel",
          "state": {
            "_view_name": "HBoxView",
            "_dom_classes": [],
            "_model_name": "HBoxModel",
            "_view_module": "@jupyter-widgets/controls",
            "_model_module_version": "1.5.0",
            "_view_count": null,
            "_view_module_version": "1.5.0",
            "box_style": "",
            "layout": "IPY_MODEL_f25b7b66bf93419aa904413cc44fa93a",
            "_model_module": "@jupyter-widgets/controls",
            "children": [
              "IPY_MODEL_86bcf67f3f6841c199cb3730cc13741b",
              "IPY_MODEL_a2c2275da057448c8986890a7c9e02be"
            ]
          }
        },
        "f25b7b66bf93419aa904413cc44fa93a": {
          "model_module": "@jupyter-widgets/base",
          "model_name": "LayoutModel",
          "state": {
            "_view_name": "LayoutView",
            "grid_template_rows": null,
            "right": null,
            "justify_content": null,
            "_view_module": "@jupyter-widgets/base",
            "overflow": null,
            "_model_module_version": "1.2.0",
            "_view_count": null,
            "flex_flow": null,
            "width": null,
            "min_width": null,
            "border": null,
            "align_items": null,
            "bottom": null,
            "_model_module": "@jupyter-widgets/base",
            "top": null,
            "grid_column": null,
            "overflow_y": null,
            "overflow_x": null,
            "grid_auto_flow": null,
            "grid_area": null,
            "grid_template_columns": null,
            "flex": null,
            "_model_name": "LayoutModel",
            "justify_items": null,
            "grid_row": null,
            "max_height": null,
            "align_content": null,
            "visibility": null,
            "align_self": null,
            "height": null,
            "min_height": null,
            "padding": null,
            "grid_auto_rows": null,
            "grid_gap": null,
            "max_width": null,
            "order": null,
            "_view_module_version": "1.2.0",
            "grid_template_areas": null,
            "object_position": null,
            "object_fit": null,
            "grid_auto_columns": null,
            "margin": null,
            "display": null,
            "left": null
          }
        },
        "86bcf67f3f6841c199cb3730cc13741b": {
          "model_module": "@jupyter-widgets/controls",
          "model_name": "FloatProgressModel",
          "state": {
            "_view_name": "ProgressView",
            "style": "IPY_MODEL_b6bb3896d27c4e94a7ed9b60c277767e",
            "_dom_classes": [],
            "description": "",
            "_model_name": "FloatProgressModel",
            "bar_style": "success",
            "max": 1,
            "_view_module": "@jupyter-widgets/controls",
            "_model_module_version": "1.5.0",
            "value": 1,
            "_view_count": null,
            "_view_module_version": "1.5.0",
            "orientation": "horizontal",
            "min": 0,
            "description_tooltip": null,
            "_model_module": "@jupyter-widgets/controls",
            "layout": "IPY_MODEL_5896ff7d6c2e43ff895a78679f9682bc"
          }
        },
        "a2c2275da057448c8986890a7c9e02be": {
          "model_module": "@jupyter-widgets/controls",
          "model_name": "HTMLModel",
          "state": {
            "_view_name": "HTMLView",
            "style": "IPY_MODEL_054c7a5222a742beb1502dd951f935bf",
            "_dom_classes": [],
            "description": "",
            "_model_name": "HTMLModel",
            "placeholder": "​",
            "_view_module": "@jupyter-widgets/controls",
            "_model_module_version": "1.5.0",
            "value": " 8192/? [00:00&lt;00:00, 27167.75it/s]",
            "_view_count": null,
            "_view_module_version": "1.5.0",
            "description_tooltip": null,
            "_model_module": "@jupyter-widgets/controls",
            "layout": "IPY_MODEL_1d312b7a53b9481b8d2c9c9cf7ca9477"
          }
        },
        "b6bb3896d27c4e94a7ed9b60c277767e": {
          "model_module": "@jupyter-widgets/controls",
          "model_name": "ProgressStyleModel",
          "state": {
            "_view_name": "StyleView",
            "_model_name": "ProgressStyleModel",
            "description_width": "initial",
            "_view_module": "@jupyter-widgets/base",
            "_model_module_version": "1.5.0",
            "_view_count": null,
            "_view_module_version": "1.2.0",
            "bar_color": null,
            "_model_module": "@jupyter-widgets/controls"
          }
        },
        "5896ff7d6c2e43ff895a78679f9682bc": {
          "model_module": "@jupyter-widgets/base",
          "model_name": "LayoutModel",
          "state": {
            "_view_name": "LayoutView",
            "grid_template_rows": null,
            "right": null,
            "justify_content": null,
            "_view_module": "@jupyter-widgets/base",
            "overflow": null,
            "_model_module_version": "1.2.0",
            "_view_count": null,
            "flex_flow": null,
            "width": null,
            "min_width": null,
            "border": null,
            "align_items": null,
            "bottom": null,
            "_model_module": "@jupyter-widgets/base",
            "top": null,
            "grid_column": null,
            "overflow_y": null,
            "overflow_x": null,
            "grid_auto_flow": null,
            "grid_area": null,
            "grid_template_columns": null,
            "flex": null,
            "_model_name": "LayoutModel",
            "justify_items": null,
            "grid_row": null,
            "max_height": null,
            "align_content": null,
            "visibility": null,
            "align_self": null,
            "height": null,
            "min_height": null,
            "padding": null,
            "grid_auto_rows": null,
            "grid_gap": null,
            "max_width": null,
            "order": null,
            "_view_module_version": "1.2.0",
            "grid_template_areas": null,
            "object_position": null,
            "object_fit": null,
            "grid_auto_columns": null,
            "margin": null,
            "display": null,
            "left": null
          }
        },
        "054c7a5222a742beb1502dd951f935bf": {
          "model_module": "@jupyter-widgets/controls",
          "model_name": "DescriptionStyleModel",
          "state": {
            "_view_name": "StyleView",
            "_model_name": "DescriptionStyleModel",
            "description_width": "",
            "_view_module": "@jupyter-widgets/base",
            "_model_module_version": "1.5.0",
            "_view_count": null,
            "_view_module_version": "1.2.0",
            "_model_module": "@jupyter-widgets/controls"
          }
        },
        "1d312b7a53b9481b8d2c9c9cf7ca9477": {
          "model_module": "@jupyter-widgets/base",
          "model_name": "LayoutModel",
          "state": {
            "_view_name": "LayoutView",
            "grid_template_rows": null,
            "right": null,
            "justify_content": null,
            "_view_module": "@jupyter-widgets/base",
            "overflow": null,
            "_model_module_version": "1.2.0",
            "_view_count": null,
            "flex_flow": null,
            "width": null,
            "min_width": null,
            "border": null,
            "align_items": null,
            "bottom": null,
            "_model_module": "@jupyter-widgets/base",
            "top": null,
            "grid_column": null,
            "overflow_y": null,
            "overflow_x": null,
            "grid_auto_flow": null,
            "grid_area": null,
            "grid_template_columns": null,
            "flex": null,
            "_model_name": "LayoutModel",
            "justify_items": null,
            "grid_row": null,
            "max_height": null,
            "align_content": null,
            "visibility": null,
            "align_self": null,
            "height": null,
            "min_height": null,
            "padding": null,
            "grid_auto_rows": null,
            "grid_gap": null,
            "max_width": null,
            "order": null,
            "_view_module_version": "1.2.0",
            "grid_template_areas": null,
            "object_position": null,
            "object_fit": null,
            "grid_auto_columns": null,
            "margin": null,
            "display": null,
            "left": null
          }
        }
      }
    }
  },
  "cells": [
    {
      "cell_type": "code",
      "metadata": {
        "id": "fSgUubssJZRD"
      },
      "source": [
        "import matplotlib.pyplot as plt\n",
        "import torch\n",
        "import torch.nn as nn\n",
        "import torch.nn.functional as F\n",
        "import torch.optim as optim\n",
        "from torch.utils.data import DataLoader, Dataset, TensorDataset\n",
        "import torchvision\n",
        "import torchvision.transforms as transforms\n"
      ],
      "execution_count": 1,
      "outputs": []
    },
    {
      "cell_type": "code",
      "metadata": {
        "colab": {
          "base_uri": "https://localhost:8080/"
        },
        "id": "vzog9zXELDBw",
        "outputId": "c58f90cc-4ba0-4859-bfc8-b58f1f001f80"
      },
      "source": [
        "print(torch.cuda.device_count())"
      ],
      "execution_count": null,
      "outputs": [
        {
          "output_type": "stream",
          "text": [
            "0\n"
          ],
          "name": "stdout"
        }
      ]
    },
    {
      "cell_type": "code",
      "metadata": {
        "id": "2QJLQIkxU5J6",
        "colab": {
          "base_uri": "https://localhost:8080/",
          "height": 369,
          "referenced_widgets": [
            "7efa87594cf1411f9da8ff58080af6e7",
            "aa91f830f7c14d42bcc7933b55bf225c",
            "f815bdbdc1024564a3a9d15a6c557ce8",
            "77a5049421e444409c6ea4477bf3e807",
            "5ac3b9c3bb614398a8b3a01c3c058fa3",
            "a743ff31f3544461be8ba649ec0dc80b",
            "82399c7a4be4438d8bb2e8102bb26ead",
            "5b188beb1acc4e9092f613be9803d3d1",
            "5b48f694ba0b4af2881d915a4aba5033",
            "f26ec8bf45d24cfe98267530f8e6d8f9",
            "1d6a02bb70b247189d1f2c56bd206adf",
            "9717df645c2a40c0ae81ff70f70dc1a3",
            "3f94256e127d4bdeaf976bf2e522d6df",
            "9c6fa6d2d2e54b689abe86cd94f031a7",
            "4c5c043ab3494cfeb4c41c7f18ce178e",
            "37dcdea51a6048bf9d58bf09c5d2a5d3",
            "9150de760168485e800828c0f128b9e0",
            "2e12ed433d7743f18aa99a4cd770845f",
            "2f054d72458c4b16958013fc458ca68a",
            "c266eb9862d04aaaa6c784467b88a950",
            "21e81faa6dc7421fab5f86997e58c916",
            "a7877b40bd194a4fa193f779c62676c5",
            "934f24bea499444a901490be4dc80640",
            "84e769aa8ff441a6ae85bca2f3435dfb",
            "96ffe5ae439c40268b6210c7c3dd5361",
            "f25b7b66bf93419aa904413cc44fa93a",
            "86bcf67f3f6841c199cb3730cc13741b",
            "a2c2275da057448c8986890a7c9e02be",
            "b6bb3896d27c4e94a7ed9b60c277767e",
            "5896ff7d6c2e43ff895a78679f9682bc",
            "054c7a5222a742beb1502dd951f935bf",
            "1d312b7a53b9481b8d2c9c9cf7ca9477"
          ]
        },
        "outputId": "ad008c4d-b674-4acb-f6a6-a624b5c2d346"
      },
      "source": [
        "# Train-test-val split\n",
        "device = torch.device(\"cuda\") if torch.cuda.is_available() else torch.device(\"cpu\")\n",
        "batch_size = 1000\n",
        "\n",
        "# Image transformations of Torchvision will convert to the images to tensor and normalise with mean and standard deviation\n",
        "transformer = transforms.Compose([transforms.ToTensor(), transforms.Normalize(mean=(0.1307,), std=(0.3081,))])\n",
        "\n",
        "dataset_train_to_split = torchvision.datasets.MNIST('Data/data/mnist', download=True, train=True, transform=transformer)\n",
        "dataset_train, dataset_val = torch.utils.data.random_split(dataset_train_to_split, [50000, 10000])\n",
        "\n",
        "dataset_test = torchvision.datasets.MNIST('Data/data/mnist', download=True, train=False, transform=transformer)\n",
        "\n",
        "dataloader_train = DataLoader(dataset_train, batch_size=batch_size, drop_last=False, shuffle=True)\n",
        "dataloader_val = DataLoader(dataset_val, batch_size=batch_size, drop_last=False, shuffle=True)\n",
        "dataloader_test = DataLoader(dataset_test, batch_size=batch_size, drop_last=False, shuffle=True)\n"
      ],
      "execution_count": 2,
      "outputs": [
        {
          "output_type": "stream",
          "text": [
            "Downloading http://yann.lecun.com/exdb/mnist/train-images-idx3-ubyte.gz to Data/data/mnist/MNIST/raw/train-images-idx3-ubyte.gz\n"
          ],
          "name": "stdout"
        },
        {
          "output_type": "display_data",
          "data": {
            "application/vnd.jupyter.widget-view+json": {
              "model_id": "7efa87594cf1411f9da8ff58080af6e7",
              "version_minor": 0,
              "version_major": 2
            },
            "text/plain": [
              "HBox(children=(FloatProgress(value=1.0, bar_style='info', max=1.0), HTML(value='')))"
            ]
          },
          "metadata": {
            "tags": []
          }
        },
        {
          "output_type": "stream",
          "text": [
            "Extracting Data/data/mnist/MNIST/raw/train-images-idx3-ubyte.gz to Data/data/mnist/MNIST/raw\n",
            "Downloading http://yann.lecun.com/exdb/mnist/train-labels-idx1-ubyte.gz to Data/data/mnist/MNIST/raw/train-labels-idx1-ubyte.gz\n"
          ],
          "name": "stdout"
        },
        {
          "output_type": "display_data",
          "data": {
            "application/vnd.jupyter.widget-view+json": {
              "model_id": "5b48f694ba0b4af2881d915a4aba5033",
              "version_minor": 0,
              "version_major": 2
            },
            "text/plain": [
              "HBox(children=(FloatProgress(value=1.0, bar_style='info', max=1.0), HTML(value='')))"
            ]
          },
          "metadata": {
            "tags": []
          }
        },
        {
          "output_type": "stream",
          "text": [
            "Extracting Data/data/mnist/MNIST/raw/train-labels-idx1-ubyte.gz to Data/data/mnist/MNIST/raw\n",
            "Downloading http://yann.lecun.com/exdb/mnist/t10k-images-idx3-ubyte.gz to Data/data/mnist/MNIST/raw/t10k-images-idx3-ubyte.gz\n"
          ],
          "name": "stdout"
        },
        {
          "output_type": "display_data",
          "data": {
            "application/vnd.jupyter.widget-view+json": {
              "model_id": "9150de760168485e800828c0f128b9e0",
              "version_minor": 0,
              "version_major": 2
            },
            "text/plain": [
              "HBox(children=(FloatProgress(value=1.0, bar_style='info', max=1.0), HTML(value='')))"
            ]
          },
          "metadata": {
            "tags": []
          }
        },
        {
          "output_type": "stream",
          "text": [
            "Extracting Data/data/mnist/MNIST/raw/t10k-images-idx3-ubyte.gz to Data/data/mnist/MNIST/raw\n",
            "Downloading http://yann.lecun.com/exdb/mnist/t10k-labels-idx1-ubyte.gz to Data/data/mnist/MNIST/raw/t10k-labels-idx1-ubyte.gz\n"
          ],
          "name": "stdout"
        },
        {
          "output_type": "display_data",
          "data": {
            "application/vnd.jupyter.widget-view+json": {
              "model_id": "96ffe5ae439c40268b6210c7c3dd5361",
              "version_minor": 0,
              "version_major": 2
            },
            "text/plain": [
              "HBox(children=(FloatProgress(value=1.0, bar_style='info', max=1.0), HTML(value='')))"
            ]
          },
          "metadata": {
            "tags": []
          }
        },
        {
          "output_type": "stream",
          "text": [
            "Extracting Data/data/mnist/MNIST/raw/t10k-labels-idx1-ubyte.gz to Data/data/mnist/MNIST/raw\n",
            "Processing...\n",
            "Done!\n"
          ],
          "name": "stdout"
        },
        {
          "output_type": "stream",
          "text": [
            "/usr/local/lib/python3.6/dist-packages/torchvision/datasets/mnist.py:480: UserWarning: The given NumPy array is not writeable, and PyTorch does not support non-writeable tensors. This means you can write to the underlying (supposedly non-writeable) NumPy array using the tensor. You may want to copy the array to protect its data or make it writeable before converting it to a tensor. This type of warning will be suppressed for the rest of this program. (Triggered internally at  /pytorch/torch/csrc/utils/tensor_numpy.cpp:141.)\n",
            "  return torch.from_numpy(parsed.astype(m[2], copy=False)).view(*s)\n"
          ],
          "name": "stderr"
        }
      ]
    },
    {
      "cell_type": "code",
      "metadata": {
        "id": "HIjCXHyVJ3-z"
      },
      "source": [
        "class Cnn(nn.Module):\n",
        "    \"\"\"Cnn inherits from Pytorch nn.Module base class.\n",
        "\n",
        "    Attributes:\n",
        "        conv1: First convolutional layer of the network.\n",
        "        conv2: Second convolutional layer of the network.\n",
        "        fc1: First hidden layer of the network.\n",
        "        fc2: Output layer of the network.\n",
        "        drop_out: Used to apply drop out to neurons.\n",
        "    \n",
        "    \"\"\"\n",
        "    def __init__(self):\n",
        "        super(Cnn, self).__init__()\n",
        "        self.conv1 = nn.Conv2d(1, 32, 5, padding=2) #kernel_size = 5 & stride = 1(default) & padding will keep output image size the same\n",
        "        self.conv2 = nn.Conv2d(32, 64, 5 ,1, padding=2)\n",
        "        self.drop_out = nn.Dropout()\n",
        "        self.fc1 = nn.Linear(7*7*64, 1000, True)\n",
        "        self.fc2 = nn.Linear(1000, 10, True)\n",
        "    \n",
        "    def forward(self, x):\n",
        "        \"\"\"Forward propogation.\n",
        "\n",
        "        Args:\n",
        "            x: Input of the network, dataloader in this case.\n",
        "\n",
        "        Returns:\n",
        "            Output of the network for classification.\n",
        "\n",
        "        \"\"\"\n",
        "        o = F.relu(self.conv1(x))\n",
        "        o = F.max_pool2d(input=o, kernel_size=2, stride=2)\n",
        "        o = F.relu(self.conv2(o))\n",
        "        o = F.max_pool2d(input=o, kernel_size=2, stride=2)\n",
        "        o = o.reshape(o.shape[0], -1) #Flatten\n",
        "        o = self.drop_out(o)\n",
        "        o = F.relu(self.fc1(o))\n",
        "        o = self.fc2(o)\n",
        "        return o\n",
        "\n",
        "    def evaluate(self, dataloader):\n",
        "        \"\"\"Evaluates accuracy of the network for the given data.\n",
        "\n",
        "        Args:\n",
        "            dataloader: Dataloader for the dataset to be evaluated.\n",
        "\n",
        "        Returns:\n",
        "            Accuracy of the network for the given dataset.\n",
        "\n",
        "        \"\"\"\n",
        "        self.eval() # disables drop-out for increased accuracy\n",
        "        with torch.no_grad(): # disables autograd as derivatives not required. \n",
        "            correct_preds = 0\n",
        "            total_samples = 0\n",
        "            for X, y_test in dataloader:\n",
        "                if torch.cuda.is_available():\n",
        "                    X, y_test= X.cuda(), y_test.cuda() \n",
        "                output = self.forward(X)\n",
        "                y_pred = torch.argmax(output, 1)\n",
        "                correct_preds += (y_pred == y_test).sum().item()\n",
        "                total_samples += y_test.shape[0]\n",
        "            accuracy = (correct_preds / total_samples) * 100\n",
        "            return accuracy"
      ],
      "execution_count": 13,
      "outputs": []
    },
    {
      "cell_type": "code",
      "metadata": {
        "id": "i50kaM5ewi8r"
      },
      "source": [
        "model = Cnn()\n",
        "model.to(device)\n",
        "\n",
        "loss_function = nn.CrossEntropyLoss()\n",
        "#optimiser = optim.SGD(model.parameters(), lr=0.01)\n",
        "optimiser = optim.Adam(model.parameters(), lr=0.001)"
      ],
      "execution_count": 14,
      "outputs": []
    },
    {
      "cell_type": "code",
      "metadata": {
        "colab": {
          "base_uri": "https://localhost:8080/"
        },
        "id": "F3caRV5TJ4FK",
        "outputId": "4d83baa5-721b-424c-f923-abdfe8a43eb0"
      },
      "source": [
        "Epochs = 50\n",
        "early_stop_patience = 10\n",
        "max_val_accuracy = 0\n",
        "early_stop_counter = 0\n",
        "total_steps = len(dataloader_train)\n",
        "for epoch in range(Epochs):\n",
        "    total_samples = 0\n",
        "    correct_preds = 0\n",
        "    for step, (X, y) in enumerate(dataloader_train):\n",
        "        if torch.cuda.is_available():\n",
        "            X, y= X.cuda(), y.cuda()\n",
        "        optimiser.zero_grad()\n",
        "        output = model(X)\n",
        "        loss = loss_function(output, y)\n",
        "        loss.backward()\n",
        "        optimiser.step()\n",
        "        total_samples += y.shape[0]\n",
        "        y_pred = torch.argmax(output, 1)\n",
        "        correct_preds += (y_pred == y).sum().item()\n",
        "        #print(f\"Epoch: {epoch} Step:{step+1}/{total_steps} Loss:{loss_rounded}\")\n",
        "    train_accuracy = (correct_preds / total_samples) * 100\n",
        "    loss_rounded = round(loss.item(), 2)\n",
        "    val_accuracy = model.evaluate(dataloader_val)\n",
        "    print(f\"Epoch {epoch+1} loss:{loss_rounded} train_accuracy: {train_accuracy} val_accuracy:{val_accuracy}\")\n",
        "    if val_accuracy > max_val_accuracy:\n",
        "        max_val_accuracy = val_accuracy\n",
        "        early_stop_counter = 0\n",
        "    else:\n",
        "        early_stop_counter += 1\n",
        "        if early_stop_counter == early_stop_patience:\n",
        "            print(f\"Stopping: Accuracy not increased for the last {early_stop_counter} epochs\")\n",
        "            print(f\"Training accuracy: {train_accuracy}\")\n",
        "            break"
      ],
      "execution_count": 16,
      "outputs": [
        {
          "output_type": "stream",
          "text": [
            "Epoch 1 loss:0.11 train_accuracy: 93.926 val_accuracy:97.19\n",
            "Epoch 2 loss:0.07 train_accuracy: 97.98599999999999 val_accuracy:98.05\n",
            "Epoch 3 loss:0.05 train_accuracy: 98.69200000000001 val_accuracy:98.46000000000001\n",
            "Epoch 4 loss:0.03 train_accuracy: 98.976 val_accuracy:98.6\n",
            "Epoch 5 loss:0.02 train_accuracy: 99.236 val_accuracy:98.92999999999999\n",
            "Epoch 6 loss:0.03 train_accuracy: 99.384 val_accuracy:98.82\n",
            "Epoch 7 loss:0.02 train_accuracy: 99.566 val_accuracy:98.86\n",
            "Epoch 8 loss:0.01 train_accuracy: 99.64 val_accuracy:98.79\n",
            "Epoch 9 loss:0.03 train_accuracy: 99.71600000000001 val_accuracy:98.98\n",
            "Epoch 10 loss:0.01 train_accuracy: 99.724 val_accuracy:98.9\n",
            "Epoch 11 loss:0.0 train_accuracy: 99.806 val_accuracy:98.99\n",
            "Epoch 12 loss:0.0 train_accuracy: 99.8 val_accuracy:98.92999999999999\n",
            "Epoch 13 loss:0.01 train_accuracy: 99.92 val_accuracy:98.98\n",
            "Epoch 14 loss:0.0 train_accuracy: 99.92 val_accuracy:99.05000000000001\n",
            "Epoch 15 loss:0.0 train_accuracy: 99.944 val_accuracy:98.97\n",
            "Epoch 16 loss:0.0 train_accuracy: 99.94800000000001 val_accuracy:99.03\n",
            "Epoch 17 loss:0.0 train_accuracy: 99.968 val_accuracy:99.07000000000001\n",
            "Epoch 18 loss:0.0 train_accuracy: 99.996 val_accuracy:99.07000000000001\n",
            "Epoch 19 loss:0.0 train_accuracy: 99.982 val_accuracy:99.03\n",
            "Epoch 20 loss:0.0 train_accuracy: 99.98599999999999 val_accuracy:99.03\n",
            "Epoch 21 loss:0.0 train_accuracy: 99.988 val_accuracy:99.1\n",
            "Epoch 22 loss:0.01 train_accuracy: 99.95 val_accuracy:99.00999999999999\n",
            "Epoch 23 loss:0.01 train_accuracy: 99.96000000000001 val_accuracy:99.14\n",
            "Epoch 24 loss:0.0 train_accuracy: 99.91600000000001 val_accuracy:98.58\n",
            "Epoch 25 loss:0.01 train_accuracy: 99.654 val_accuracy:98.56\n",
            "Epoch 26 loss:0.01 train_accuracy: 99.67200000000001 val_accuracy:98.32\n",
            "Epoch 27 loss:0.01 train_accuracy: 99.634 val_accuracy:98.88\n",
            "Epoch 28 loss:0.0 train_accuracy: 99.90400000000001 val_accuracy:99.1\n",
            "Epoch 29 loss:0.0 train_accuracy: 99.976 val_accuracy:98.95\n",
            "Epoch 30 loss:0.0 train_accuracy: 99.97399999999999 val_accuracy:99.0\n",
            "Epoch 31 loss:0.0 train_accuracy: 99.994 val_accuracy:99.11\n",
            "Epoch 32 loss:0.0 train_accuracy: 99.996 val_accuracy:99.1\n",
            "Epoch 33 loss:0.0 train_accuracy: 100.0 val_accuracy:99.13\n",
            "Stopping: Accuracy not increased for the last 10 epochs\n",
            "Training accuracy: 100.0\n"
          ],
          "name": "stdout"
        }
      ]
    },
    {
      "cell_type": "code",
      "metadata": {
        "id": "CjGkrTA7V3nA",
        "colab": {
          "base_uri": "https://localhost:8080/"
        },
        "outputId": "4e0f1366-10ad-42cc-c8bd-f9c739ff1a1a"
      },
      "source": [
        "print(f\"Final Accuracy on test data: {model.evaluate(dataloader_test)}\")"
      ],
      "execution_count": 17,
      "outputs": [
        {
          "output_type": "stream",
          "text": [
            "Final Accuracy on test data: 99.21\n"
          ],
          "name": "stdout"
        }
      ]
    },
    {
      "cell_type": "code",
      "metadata": {
        "id": "tbmJh4im1pqh"
      },
      "source": [
        "from sklearn.metrics import confusion_matrix\n",
        "predictions, labels = [], []\n",
        "\n",
        "model.eval()\n",
        "with torch.no_grad():\n",
        "    for X, y in dataloader_test:\n",
        "        if torch.cuda.is_available():\n",
        "            X, y= X.cuda(), y.cuda()\n",
        "        output = model.forward(X)\n",
        "        y_pred = torch.argmax(output, 1)\n",
        "        # convert to numpy arrays\n",
        "        y_pred = y_pred.detach().cpu().numpy()\n",
        "        y = y.detach().cpu().numpy()\n",
        "        for i in range(len(y_pred)):\n",
        "            predictions.append(y_pred[i])\n",
        "            labels.append(y[i])\n",
        "\n",
        "cf_matrix = confusion_matrix(labels, predictions)"
      ],
      "execution_count": 18,
      "outputs": []
    },
    {
      "cell_type": "code",
      "metadata": {
        "id": "YF7-ZSLx16Kj",
        "colab": {
          "base_uri": "https://localhost:8080/",
          "height": 621
        },
        "outputId": "24136d06-5ac3-4fad-dd3a-54edd8e23123"
      },
      "source": [
        "import seaborn as sns\n",
        "import numpy as np\n",
        "import seaborn as sns\n",
        "plt.figure(figsize = (15,10))\n",
        "sns.set(font_scale=2)\n",
        "sns.heatmap(cf_matrix, annot=True, fmt='g', cmap=\"Blues\", linewidths=0.5, linecolor='black')"
      ],
      "execution_count": 19,
      "outputs": [
        {
          "output_type": "execute_result",
          "data": {
            "text/plain": [
              "<matplotlib.axes._subplots.AxesSubplot at 0x7f15caafa320>"
            ]
          },
          "metadata": {
            "tags": []
          },
          "execution_count": 19
        },
        {
          "output_type": "display_data",
          "data": {
            "image/png": "[encoded data removed]",
            "text/plain": [
              "<Figure size 1080x720 with 2 Axes>"
            ]
          },
          "metadata": {
            "tags": []
          }
        }
      ]
    }
  ]
}